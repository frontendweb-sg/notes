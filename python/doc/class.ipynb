{
 "cells": [
  {
   "cell_type": "code",
   "execution_count": 5,
   "metadata": {},
   "outputs": [
    {
     "data": {
      "text/plain": [
       "__main__.Person"
      ]
     },
     "execution_count": 5,
     "metadata": {},
     "output_type": "execute_result"
    }
   ],
   "source": [
    "class Person:\n",
    "    pass\n",
    "\n",
    "p = Person()\n",
    "p\n",
    "type(p)\n",
    "isinstance(p,Person)\n",
    "type(p) == p.__class__\n",
    "p.__class__"
   ]
  },
  {
   "cell_type": "markdown",
   "metadata": {},
   "source": [
    "Define Attributes in classes"
   ]
  },
  {
   "cell_type": "code",
   "execution_count": 17,
   "metadata": {},
   "outputs": [
    {
     "data": {
      "text/plain": [
       "10"
      ]
     },
     "execution_count": 17,
     "metadata": {},
     "output_type": "execute_result"
    }
   ],
   "source": [
    "class MyClass:\n",
    "    language = \"Python\"\n",
    "    version = \"3.8\"\n",
    "    \n",
    "obj = MyClass()\n",
    "\n",
    "getattr(obj,\"version\")\n",
    "\n",
    "\n",
    "obj.__dict__\n",
    "MyClass.__dict__\n",
    "\n",
    "MyClass.x = 10\n",
    "MyClass.__dict__\n",
    "\n",
    "setattr(MyClass,'y',20)\n",
    "MyClass.__dict__\n",
    "\n",
    "delattr(MyClass,'y')\n",
    "MyClass.__dict__['x']\n",
    "\n"
   ]
  },
  {
   "cell_type": "code",
   "execution_count": 33,
   "metadata": {},
   "outputs": [
    {
     "name": "stdout",
     "output_type": "stream",
     "text": [
      "instance method called from : <__main__.Person object at 0x0000028444D49790>\n"
     ]
    },
    {
     "data": {
      "text/plain": [
       "mappingproxy({'__module__': '__main__',\n",
       "              'say_hello': <function __main__.Person.say_hello(self)>,\n",
       "              '__dict__': <attribute '__dict__' of 'Person' objects>,\n",
       "              '__weakref__': <attribute '__weakref__' of 'Person' objects>,\n",
       "              '__doc__': None})"
      ]
     },
     "execution_count": 33,
     "metadata": {},
     "output_type": "execute_result"
    }
   ],
   "source": [
    "class Person:\n",
    "    def say_hello(self):\n",
    "        print(f\"instance method called from : {self}\")\n",
    "        \n",
    "        \n",
    "p = Person()\n",
    "hex(id(p))\n",
    "\n",
    "hex(id(p)), p.say_hello()\n",
    "\n",
    "hello_f = p.say_hello\n",
    "\n",
    "hello_f.__func__, hello_f.__self__\n",
    "p.__dict__\n",
    "Person.__dict__\n",
    "\n",
    "\n",
    "p.display = lambda : print(\"Hello \")\n",
    "\n",
    "from types import MethodType\n",
    "\n",
    "p.display = MethodType(lambda self: print(f\"Hello {self}\"),p)\n",
    "p.display\n",
    "\n",
    "Person.__dict__\n"
   ]
  },
  {
   "cell_type": "code",
   "execution_count": 52,
   "metadata": {},
   "outputs": [
    {
     "name": "stdout",
     "output_type": "stream",
     "text": [
      "setter calling\n",
      "delete calling\n"
     ]
    },
    {
     "data": {
      "text/plain": [
       "<property at 0x28445420b80>"
      ]
     },
     "execution_count": 52,
     "metadata": {},
     "output_type": "execute_result"
    }
   ],
   "source": [
    "class Person:\n",
    "    def __init__(self):\n",
    "        self._langeuage = \"Python\"\n",
    "    \n",
    "    def get_language(self):\n",
    "        print(\"getter calling\")\n",
    "        return self._langeuage\n",
    "    \n",
    "\n",
    "    def set_lanuage(self,name):\n",
    "        print(\"setter calling\")\n",
    "        self._langeuage = name\n",
    "        \n",
    "    def delete_language(self):\n",
    "        print(\"delete calling\")\n",
    "        del self._langeuage\n",
    "    language = property(fget=get_language,fset=set_lanuage,fdel=delete_language)\n",
    "p = Person()\n",
    "p.language = \"Javas\"\n",
    "p.__dict__\n",
    "Person.__dict__\n",
    "del p.language\n",
    "p.__dict__\n",
    "Person.__dict__\n",
    "\n",
    "Person.language"
   ]
  }
 ],
 "metadata": {
  "kernelspec": {
   "display_name": "py_env",
   "language": "python",
   "name": "python3"
  },
  "language_info": {
   "codemirror_mode": {
    "name": "ipython",
    "version": 3
   },
   "file_extension": ".py",
   "mimetype": "text/x-python",
   "name": "python",
   "nbconvert_exporter": "python",
   "pygments_lexer": "ipython3",
   "version": "3.12.3"
  }
 },
 "nbformat": 4,
 "nbformat_minor": 2
}
