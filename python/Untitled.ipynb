{
 "cells": [
  {
   "cell_type": "code",
   "execution_count": null,
   "id": "dc899ce9-d7a7-486e-8c6b-fe7a39f40572",
   "metadata": {},
   "outputs": [],
   "source": []
  }
 ],
 "metadata": {
  "kernelspec": {
   "display_name": "",
   "name": ""
  },
  "language_info": {
   "name": ""
  }
 },
 "nbformat": 4,
 "nbformat_minor": 5
}
