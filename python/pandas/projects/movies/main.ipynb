{
 "cells": [
  {
   "cell_type": "code",
   "execution_count": 8,
   "metadata": {},
   "outputs": [
    {
     "data": {
      "text/plain": [
       "id                                int64\n",
       "title                            object\n",
       "tagline                          object\n",
       "release_date             datetime64[ns]\n",
       "genres                           object\n",
       "belongs_to_collection            object\n",
       "original_language                object\n",
       "budget_musd                     float64\n",
       "revenue_musd                    float64\n",
       "production_companies             object\n",
       "production_countries             object\n",
       "vote_count                      float64\n",
       "vote_average                    float64\n",
       "popularity                      float64\n",
       "runtime                         float64\n",
       "overview                         object\n",
       "spoken_languages                 object\n",
       "poster_path                      object\n",
       "cast                             object\n",
       "cast_size                         int64\n",
       "crew_size                         int64\n",
       "director                         object\n",
       "dtype: object"
      ]
     },
     "execution_count": 8,
     "metadata": {},
     "output_type": "execute_result"
    }
   ],
   "source": [
    "import pandas as pd\n",
    "\n",
    "# Read the movies csv file\n",
    "movies = pd.read_csv(\"movies_complete.csv\", parse_dates=['release_date'])\n",
    "# pd.options.display.max_columns = 30\n",
    "filter_by_comedy_and_drama = movies['genres'].isin(['Comedy', 'Drama'])\n",
    "comedy_and_drama_movies = movies[filter_by_comedy_and_drama]\n",
    "comedy_and_drama_movies.dtypes"
   ]
  }
 ],
 "metadata": {
  "kernelspec": {
   "display_name": "py_env",
   "language": "python",
   "name": "python3"
  },
  "language_info": {
   "codemirror_mode": {
    "name": "ipython",
    "version": 3
   },
   "file_extension": ".py",
   "mimetype": "text/x-python",
   "name": "python",
   "nbconvert_exporter": "python",
   "pygments_lexer": "ipython3",
   "version": "3.12.3"
  }
 },
 "nbformat": 4,
 "nbformat_minor": 2
}
