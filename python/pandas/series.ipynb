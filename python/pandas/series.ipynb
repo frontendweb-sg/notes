{
 "cells": [
  {
   "cell_type": "markdown",
   "metadata": {},
   "source": [
    "Import pandas and numpy module"
   ]
  },
  {
   "cell_type": "code",
   "execution_count": 1,
   "metadata": {},
   "outputs": [],
   "source": [
    "import numpy as np\n",
    "import pandas as pd"
   ]
  },
  {
   "cell_type": "code",
   "execution_count": 73,
   "metadata": {},
   "outputs": [
    {
     "data": {
      "text/plain": [
       "f    5.0\n",
       "e    5.0\n",
       "d    4.0\n",
       "c    3.0\n",
       "b    2.0\n",
       "a    1.0\n",
       "dtype: float64"
      ]
     },
     "execution_count": 73,
     "metadata": {},
     "output_type": "execute_result"
    }
   ],
   "source": [
    "a = list((1,2,3,4,5,5,np.inf,np.nan))\n",
    "i = list(\"abcdefgh\")\n",
    "nb = np.array([1, 2, 3, 4, 5, 5, np.inf, np.nan])\n",
    "s = pd.Series(a,index=i)\n",
    "s=s.dropna()\n",
    "s=s.drop('g')\n",
    "s.sort_values(ascending=False)\n",
    "s.sort_index(ascending=False,na_position='last',level=1)\n"
   ]
  }
 ],
 "metadata": {
  "kernelspec": {
   "display_name": "py_env",
   "language": "python",
   "name": "python3"
  },
  "language_info": {
   "codemirror_mode": {
    "name": "ipython",
    "version": 3
   },
   "file_extension": ".py",
   "mimetype": "text/x-python",
   "name": "python",
   "nbconvert_exporter": "python",
   "pygments_lexer": "ipython3",
   "version": "3.12.3"
  }
 },
 "nbformat": 4,
 "nbformat_minor": 2
}
