{
 "cells": [
  {
   "cell_type": "code",
   "execution_count": 15,
   "id": "c821d47d-e965-4b50-9da4-6ef6f65c8b5b",
   "metadata": {},
   "outputs": [
    {
     "data": {
      "text/plain": [
       "datetime.date(2024, 8, 18)"
      ]
     },
     "execution_count": 15,
     "metadata": {},
     "output_type": "execute_result"
    }
   ],
   "source": [
    "import datetime as dt\n",
    "today = dt.date(2024,8,18)\n",
    "today"
   ]
  },
  {
   "cell_type": "code",
   "execution_count": 26,
   "id": "402d0b61-ce4e-440e-a8c7-822c2d988a1d",
   "metadata": {},
   "outputs": [
    {
     "data": {
      "text/plain": [
       "DatetimeIndex(['2024-08-18', '2024-08-20', '2024-08-22', '2024-08-24'], dtype='datetime64[ns]', freq='2D')"
      ]
     },
     "execution_count": 26,
     "metadata": {},
     "output_type": "execute_result"
    }
   ],
   "source": [
    "import pandas as pd\n",
    "s = pd.date_range(start=\"2024-08-18\",end=\"2024-08-25\", freq=\"2D\")\n",
    "s"
   ]
  },
  {
   "cell_type": "code",
   "execution_count": null,
   "id": "4cadb399-7c6a-40d4-9bc7-8fa6835b1449",
   "metadata": {},
   "outputs": [],
   "source": []
  }
 ],
 "metadata": {
  "kernelspec": {
   "display_name": "Python 3 (ipykernel)",
   "language": "python",
   "name": "python3"
  },
  "language_info": {
   "codemirror_mode": {
    "name": "ipython",
    "version": 3
   },
   "file_extension": ".py",
   "mimetype": "text/x-python",
   "name": "python",
   "nbconvert_exporter": "python",
   "pygments_lexer": "ipython3",
   "version": "3.12.3"
  }
 },
 "nbformat": 4,
 "nbformat_minor": 5
}
